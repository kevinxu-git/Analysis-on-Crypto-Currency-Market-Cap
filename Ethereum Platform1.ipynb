{
 "cells": [
  {
   "cell_type": "code",
   "execution_count": 2,
   "metadata": {},
   "outputs": [
    {
     "data": {
      "text/html": [
       "<div>\n",
       "<style scoped>\n",
       "    .dataframe tbody tr th:only-of-type {\n",
       "        vertical-align: middle;\n",
       "    }\n",
       "\n",
       "    .dataframe tbody tr th {\n",
       "        vertical-align: top;\n",
       "    }\n",
       "\n",
       "    .dataframe thead th {\n",
       "        text-align: right;\n",
       "    }\n",
       "</style>\n",
       "<table border=\"1\" class=\"dataframe\">\n",
       "  <thead>\n",
       "    <tr style=\"text-align: right;\">\n",
       "      <th></th>\n",
       "      <th>tx_date</th>\n",
       "      <th>tx_count</th>\n",
       "      <th>Tx_volume_Ether</th>\n",
       "      <th>Tx_volume($)</th>\n",
       "      <th>tx_count_ERC20</th>\n",
       "      <th>Tx_volume_ERC20</th>\n",
       "      <th>Tx_volume_ERC20($)</th>\n",
       "      <th>Volume($)</th>\n",
       "      <th>Market Cap($)</th>\n",
       "      <th>DAU</th>\n",
       "      <th>CUM</th>\n",
       "    </tr>\n",
       "  </thead>\n",
       "  <tbody>\n",
       "    <tr>\n",
       "      <th>0</th>\n",
       "      <td>2016-01-01</td>\n",
       "      <td>8233</td>\n",
       "      <td>3.445478e+05</td>\n",
       "      <td>326639.542431</td>\n",
       "      <td>0.0</td>\n",
       "      <td>0.0</td>\n",
       "      <td>0.0</td>\n",
       "      <td>206062</td>\n",
       "      <td>71980386</td>\n",
       "      <td>8006</td>\n",
       "      <td>8006</td>\n",
       "    </tr>\n",
       "    <tr>\n",
       "      <th>1</th>\n",
       "      <td>2016-01-02</td>\n",
       "      <td>9164</td>\n",
       "      <td>2.592400e+05</td>\n",
       "      <td>242940.035122</td>\n",
       "      <td>0.0</td>\n",
       "      <td>0.0</td>\n",
       "      <td>0.0</td>\n",
       "      <td>255504</td>\n",
       "      <td>71176658</td>\n",
       "      <td>8814</td>\n",
       "      <td>16820</td>\n",
       "    </tr>\n",
       "    <tr>\n",
       "      <th>2</th>\n",
       "      <td>2016-01-03</td>\n",
       "      <td>9258</td>\n",
       "      <td>3.708200e+05</td>\n",
       "      <td>360401.805781</td>\n",
       "      <td>0.0</td>\n",
       "      <td>0.0</td>\n",
       "      <td>0.0</td>\n",
       "      <td>407632</td>\n",
       "      <td>73843292</td>\n",
       "      <td>9019</td>\n",
       "      <td>25839</td>\n",
       "    </tr>\n",
       "    <tr>\n",
       "      <th>3</th>\n",
       "      <td>2016-01-04</td>\n",
       "      <td>9474</td>\n",
       "      <td>1.541255e+05</td>\n",
       "      <td>147109.680450</td>\n",
       "      <td>0.0</td>\n",
       "      <td>0.0</td>\n",
       "      <td>0.0</td>\n",
       "      <td>346245</td>\n",
       "      <td>72543707</td>\n",
       "      <td>9059</td>\n",
       "      <td>34898</td>\n",
       "    </tr>\n",
       "    <tr>\n",
       "      <th>4</th>\n",
       "      <td>2016-01-05</td>\n",
       "      <td>16430</td>\n",
       "      <td>1.036291e+06</td>\n",
       "      <td>984659.012911</td>\n",
       "      <td>0.0</td>\n",
       "      <td>0.0</td>\n",
       "      <td>0.0</td>\n",
       "      <td>219833</td>\n",
       "      <td>72240974</td>\n",
       "      <td>11164</td>\n",
       "      <td>46062</td>\n",
       "    </tr>\n",
       "  </tbody>\n",
       "</table>\n",
       "</div>"
      ],
      "text/plain": [
       "      tx_date  tx_count  Tx_volume_Ether   Tx_volume($)  tx_count_ERC20  \\\n",
       "0  2016-01-01      8233     3.445478e+05  326639.542431             0.0   \n",
       "1  2016-01-02      9164     2.592400e+05  242940.035122             0.0   \n",
       "2  2016-01-03      9258     3.708200e+05  360401.805781             0.0   \n",
       "3  2016-01-04      9474     1.541255e+05  147109.680450             0.0   \n",
       "4  2016-01-05     16430     1.036291e+06  984659.012911             0.0   \n",
       "\n",
       "   Tx_volume_ERC20  Tx_volume_ERC20($)  Volume($)  Market Cap($)    DAU    CUM  \n",
       "0              0.0                 0.0     206062       71980386   8006   8006  \n",
       "1              0.0                 0.0     255504       71176658   8814  16820  \n",
       "2              0.0                 0.0     407632       73843292   9019  25839  \n",
       "3              0.0                 0.0     346245       72543707   9059  34898  \n",
       "4              0.0                 0.0     219833       72240974  11164  46062  "
      ]
     },
     "execution_count": 2,
     "metadata": {},
     "output_type": "execute_result"
    }
   ],
   "source": [
    "import pandas as pd\n",
    "\n",
    "result = pd.read_csv(\"result.csv\")\n",
    "del result['Unnamed: 0']\n",
    "result.head()"
   ]
  },
  {
   "cell_type": "code",
   "execution_count": 3,
   "metadata": {},
   "outputs": [
    {
     "data": {
      "text/html": [
       "<div>\n",
       "<style scoped>\n",
       "    .dataframe tbody tr th:only-of-type {\n",
       "        vertical-align: middle;\n",
       "    }\n",
       "\n",
       "    .dataframe tbody tr th {\n",
       "        vertical-align: top;\n",
       "    }\n",
       "\n",
       "    .dataframe thead th {\n",
       "        text-align: right;\n",
       "    }\n",
       "</style>\n",
       "<table border=\"1\" class=\"dataframe\">\n",
       "  <thead>\n",
       "    <tr style=\"text-align: right;\">\n",
       "      <th></th>\n",
       "      <th>Coef</th>\n",
       "      <th>Score</th>\n",
       "    </tr>\n",
       "    <tr>\n",
       "      <th>x_lst</th>\n",
       "      <th></th>\n",
       "      <th></th>\n",
       "    </tr>\n",
       "  </thead>\n",
       "  <tbody>\n",
       "    <tr>\n",
       "      <th>DAU</th>\n",
       "      <td>1.327946e+05</td>\n",
       "      <td>0.848060</td>\n",
       "    </tr>\n",
       "    <tr>\n",
       "      <th>tx_count</th>\n",
       "      <td>7.853991e+04</td>\n",
       "      <td>0.815805</td>\n",
       "    </tr>\n",
       "    <tr>\n",
       "      <th>Volume($)</th>\n",
       "      <td>1.784916e+01</td>\n",
       "      <td>0.700871</td>\n",
       "    </tr>\n",
       "    <tr>\n",
       "      <th>Tx_volume($)</th>\n",
       "      <td>5.828936e+00</td>\n",
       "      <td>0.433478</td>\n",
       "    </tr>\n",
       "    <tr>\n",
       "      <th>tx_count_ERC20</th>\n",
       "      <td>8.718415e+04</td>\n",
       "      <td>0.361827</td>\n",
       "    </tr>\n",
       "    <tr>\n",
       "      <th>CUM</th>\n",
       "      <td>1.976944e+02</td>\n",
       "      <td>0.271924</td>\n",
       "    </tr>\n",
       "    <tr>\n",
       "      <th>Tx_volume_Ether</th>\n",
       "      <td>7.874096e+02</td>\n",
       "      <td>0.033819</td>\n",
       "    </tr>\n",
       "    <tr>\n",
       "      <th>Tx_volume_ERC20</th>\n",
       "      <td>-3.055525e-53</td>\n",
       "      <td>0.001385</td>\n",
       "    </tr>\n",
       "    <tr>\n",
       "      <th>Tx_volume_ERC20($)</th>\n",
       "      <td>-7.225363e-56</td>\n",
       "      <td>0.000188</td>\n",
       "    </tr>\n",
       "  </tbody>\n",
       "</table>\n",
       "</div>"
      ],
      "text/plain": [
       "                            Coef     Score\n",
       "x_lst                                     \n",
       "DAU                 1.327946e+05  0.848060\n",
       "tx_count            7.853991e+04  0.815805\n",
       "Volume($)           1.784916e+01  0.700871\n",
       "Tx_volume($)        5.828936e+00  0.433478\n",
       "tx_count_ERC20      8.718415e+04  0.361827\n",
       "CUM                 1.976944e+02  0.271924\n",
       "Tx_volume_Ether     7.874096e+02  0.033819\n",
       "Tx_volume_ERC20    -3.055525e-53  0.001385\n",
       "Tx_volume_ERC20($) -7.225363e-56  0.000188"
      ]
     },
     "execution_count": 3,
     "metadata": {},
     "output_type": "execute_result"
    }
   ],
   "source": [
    "final = pd.read_csv(\"final.csv\")\n",
    "del final['Unnamed: 0']\n",
    "final.set_index(\"x_lst\")"
   ]
  },
  {
   "cell_type": "markdown",
   "metadata": {},
   "source": [
    "> 위 표를 통해 사실상 'DAU, tx_count, Volume($)'를 제외하고 나머지 값들은 거의 의미 없다고 볼 수 있다"
   ]
  },
  {
   "cell_type": "code",
   "execution_count": 4,
   "metadata": {},
   "outputs": [
    {
     "name": "stderr",
     "output_type": "stream",
     "text": [
      "C:\\ProgramData\\Anaconda3\\lib\\site-packages\\IPython\\core\\display.py:689: UserWarning:\n",
      "\n",
      "Consider using IPython.display.IFrame instead\n",
      "\n"
     ]
    },
    {
     "data": {
      "text/html": [
       "<iframe id=\"igraph\" scrolling=\"no\" style=\"border:none;\" seamless=\"seamless\" src=\"https://plot.ly/~Julie_heart/53.embed\" height=\"525px\" width=\"100%\"></iframe>"
      ],
      "text/plain": [
       "<plotly.tools.PlotlyDisplay object>"
      ]
     },
     "execution_count": 4,
     "metadata": {},
     "output_type": "execute_result"
    }
   ],
   "source": [
    "import plotly.plotly as py\n",
    "import plotly.graph_objs as go\n",
    "\n",
    "def data_to_plotly(x):\n",
    "    k = []\n",
    "    \n",
    "    for i in range(0, len(x)):\n",
    "        k.append(x[i][0])\n",
    "        \n",
    "    return k\n",
    "\n",
    "from sklearn import linear_model\n",
    "\n",
    "X = result['Tx_volume($)'].values\n",
    "y = result['Market Cap($)'].values\n",
    "X = X.reshape(len(X), 1)\n",
    "y = y.reshape(len(y), 1)\n",
    "regr = linear_model.LinearRegression()\n",
    "regr.fit(X, y)\n",
    "\n",
    "p1 = go.Scatter(x=data_to_plotly(X), \n",
    "                y=y,\n",
    "                mode='markers',\n",
    "                marker=dict(color='blue')\n",
    "               )\n",
    "\n",
    "layout = go.Layout(xaxis=dict(ticks='', showticklabels=False,\n",
    "                              zeroline=False),\n",
    "                   yaxis=dict(ticks='', showticklabels=False,\n",
    "                              zeroline=False),\n",
    "                   showlegend=False, hovermode='closest')\n",
    "\n",
    "fig = go.Figure(data=[p1], layout=layout)\n",
    "\n",
    "py.iplot(fig)"
   ]
  },
  {
   "cell_type": "markdown",
   "metadata": {},
   "source": [
    "> 실제로 R2값이 0.5밑인 다른 feature들은 선형이라고 보기 어렵다 (위 그래프는 top3변수 다음으로 높았던 Tx_Volume($)와 Market Cap간의 관계)\n",
    "\n",
    "> 각 선형회귀 분석 결과 가장 관계가 높았던 Top3인 세 변수를 x로, y를 market cap으로 다중선형회귀분석을 해본결과,"
   ]
  },
  {
   "cell_type": "code",
   "execution_count": 5,
   "metadata": {},
   "outputs": [
    {
     "data": {
      "text/html": [
       "<table class=\"simpletable\">\n",
       "<caption>OLS Regression Results</caption>\n",
       "<tr>\n",
       "  <th>Dep. Variable:</th>      <td>Market Cap($)</td>  <th>  R-squared:         </th> <td>-98618.601</td>\n",
       "</tr>\n",
       "<tr>\n",
       "  <th>Model:</th>                   <td>OLS</td>       <th>  Adj. R-squared:    </th> <td>-98889.286</td>\n",
       "</tr>\n",
       "<tr>\n",
       "  <th>Method:</th>             <td>Least Squares</td>  <th>  F-statistic:       </th>  <td>  -364.3</td> \n",
       "</tr>\n",
       "<tr>\n",
       "  <th>Date:</th>             <td>Thu, 07 Feb 2019</td> <th>  Prob (F-statistic):</th>   <td>  1.00</td>  \n",
       "</tr>\n",
       "<tr>\n",
       "  <th>Time:</th>                 <td>10:10:11</td>     <th>  Log-Likelihood:    </th>  <td> -26885.</td> \n",
       "</tr>\n",
       "<tr>\n",
       "  <th>No. Observations:</th>      <td>  1096</td>      <th>  AIC:               </th>  <td>5.378e+04</td>\n",
       "</tr>\n",
       "<tr>\n",
       "  <th>Df Residuals:</th>          <td>  1093</td>      <th>  BIC:               </th>  <td>5.379e+04</td>\n",
       "</tr>\n",
       "<tr>\n",
       "  <th>Df Model:</th>              <td>     3</td>      <th>                     </th>      <td> </td>    \n",
       "</tr>\n",
       "<tr>\n",
       "  <th>Covariance Type:</th>      <td>nonrobust</td>    <th>                     </th>      <td> </td>    \n",
       "</tr>\n",
       "</table>\n",
       "<table class=\"simpletable\">\n",
       "<tr>\n",
       "      <td></td>         <th>coef</th>     <th>std err</th>      <th>t</th>      <th>P>|t|</th>  <th>[0.025</th>    <th>0.975]</th>  \n",
       "</tr>\n",
       "<tr>\n",
       "  <th>DAU</th>       <td>  9.58e+04</td> <td> 7453.474</td> <td>   12.854</td> <td> 0.000</td> <td> 8.12e+04</td> <td>  1.1e+05</td>\n",
       "</tr>\n",
       "<tr>\n",
       "  <th>tx_count</th>  <td> 1.586e+04</td> <td> 3870.728</td> <td>    4.097</td> <td> 0.000</td> <td> 8262.901</td> <td> 2.35e+04</td>\n",
       "</tr>\n",
       "<tr>\n",
       "  <th>Volume($)</th> <td>    0.4014</td> <td>    0.615</td> <td>    0.653</td> <td> 0.514</td> <td>   -0.805</td> <td>    1.608</td>\n",
       "</tr>\n",
       "</table>\n",
       "<table class=\"simpletable\">\n",
       "<tr>\n",
       "  <th>Omnibus:</th>       <td>206.302</td> <th>  Durbin-Watson:     </th> <td>   0.183</td> \n",
       "</tr>\n",
       "<tr>\n",
       "  <th>Prob(Omnibus):</th> <td> 0.000</td>  <th>  Jarque-Bera (JB):  </th> <td> 704.581</td> \n",
       "</tr>\n",
       "<tr>\n",
       "  <th>Skew:</th>          <td> 0.895</td>  <th>  Prob(JB):          </th> <td>1.01e-153</td>\n",
       "</tr>\n",
       "<tr>\n",
       "  <th>Kurtosis:</th>      <td> 6.496</td>  <th>  Cond. No.          </th> <td>4.09e+04</td> \n",
       "</tr>\n",
       "</table><br/><br/>Warnings:<br/>[1] Standard Errors assume that the covariance matrix of the errors is correctly specified.<br/>[2] The condition number is large, 4.09e+04. This might indicate that there are<br/>strong multicollinearity or other numerical problems."
      ],
      "text/plain": [
       "<class 'statsmodels.iolib.summary.Summary'>\n",
       "\"\"\"\n",
       "                            OLS Regression Results                            \n",
       "==============================================================================\n",
       "Dep. Variable:          Market Cap($)   R-squared:                  -98618.601\n",
       "Model:                            OLS   Adj. R-squared:             -98889.286\n",
       "Method:                 Least Squares   F-statistic:                    -364.3\n",
       "Date:                Thu, 07 Feb 2019   Prob (F-statistic):               1.00\n",
       "Time:                        10:10:11   Log-Likelihood:                -26885.\n",
       "No. Observations:                1096   AIC:                         5.378e+04\n",
       "Df Residuals:                    1093   BIC:                         5.379e+04\n",
       "Df Model:                           3                                         \n",
       "Covariance Type:            nonrobust                                         \n",
       "==============================================================================\n",
       "                 coef    std err          t      P>|t|      [0.025      0.975]\n",
       "------------------------------------------------------------------------------\n",
       "DAU          9.58e+04   7453.474     12.854      0.000    8.12e+04     1.1e+05\n",
       "tx_count    1.586e+04   3870.728      4.097      0.000    8262.901    2.35e+04\n",
       "Volume($)      0.4014      0.615      0.653      0.514      -0.805       1.608\n",
       "==============================================================================\n",
       "Omnibus:                      206.302   Durbin-Watson:                   0.183\n",
       "Prob(Omnibus):                  0.000   Jarque-Bera (JB):              704.581\n",
       "Skew:                           0.895   Prob(JB):                    1.01e-153\n",
       "Kurtosis:                       6.496   Cond. No.                     4.09e+04\n",
       "==============================================================================\n",
       "\n",
       "Warnings:\n",
       "[1] Standard Errors assume that the covariance matrix of the errors is correctly specified.\n",
       "[2] The condition number is large, 4.09e+04. This might indicate that there are\n",
       "strong multicollinearity or other numerical problems.\n",
       "\"\"\""
      ]
     },
     "execution_count": 5,
     "metadata": {},
     "output_type": "execute_result"
    }
   ],
   "source": [
    "import statsmodels.api as sm\n",
    "\n",
    "X = sm.add_constant(X)\n",
    "model = sm.OLS(result['Market Cap($)'], result[['DAU', 'tx_count', 'Volume($)']]).fit()\n",
    "\n",
    "predictions = model.predict()\n",
    "print_model = model.summary()\n",
    "print_model"
   ]
  },
  {
   "cell_type": "markdown",
   "metadata": {},
   "source": [
    "> R2값의 결과가 형편없음을 알 수 있다. 그렇다면 위 3 변수와 Market Cap간의 관계를 OLS로 추정하는 것은 옳지 않은 것을 알 수 있다.\n",
    "\n",
    "> Statsmodels가 아니라 Sklearn의 linear regression을 사용하는 경우 더 R2값이 높지만, 아래에 제시되어있는 이유로 신뢰성이 높은 지표가 아니다"
   ]
  },
  {
   "cell_type": "markdown",
   "metadata": {},
   "source": [
    "> PCA와 OLS의 차이 : OLS는 최소자승법으로 직선과 데이터의 거리를 최소화하는 반면, PCA는 데이터의 분산이 가장 큰 방향을 구한다\n",
    ">\n",
    "> 회귀분석 모형 개발 시 입력변수들간의 상관관계가 높은 다중공선성(multicollinearity)이 존재할 경우 모형이 잘못만들어지고 따라서 해석에도 문제가 생길 수 있어 이 경우 회귀분석보다 주성분분석을 통해 상관도가 높은 변수들을 하나의 주성분으로 축소하여 활용하는 것이 좋다\n",
    "\n",
    "> 각 변수간 상관관계 분석 결과,"
   ]
  },
  {
   "cell_type": "code",
   "execution_count": 6,
   "metadata": {},
   "outputs": [
    {
     "name": "stdout",
     "output_type": "stream",
     "text": [
      "                DAU  tx_count  Volume($)\n",
      "DAU        1.000000  0.963617   0.918099\n",
      "tx_count   0.963617  1.000000   0.883152\n",
      "Volume($)  0.918099  0.883152   1.000000\n"
     ]
    }
   ],
   "source": [
    "re = result[['DAU', 'tx_count', 'Volume($)']].corr(method='pearson')\n",
    "print(re)"
   ]
  },
  {
   "cell_type": "markdown",
   "metadata": {},
   "source": [
    "> DAU와 tx_count간의 상관관계가 1에 가깝고, tx_count와 Volume사이, DAU와 volume사이의 상관관계도 만만치 않게 높음을 알 수 있다"
   ]
  },
  {
   "cell_type": "markdown",
   "metadata": {},
   "source": [
    "# 주성분분석 선형회귀"
   ]
  },
  {
   "cell_type": "code",
   "execution_count": 7,
   "metadata": {},
   "outputs": [
    {
     "data": {
      "text/html": [
       "<div>\n",
       "<style scoped>\n",
       "    .dataframe tbody tr th:only-of-type {\n",
       "        vertical-align: middle;\n",
       "    }\n",
       "\n",
       "    .dataframe tbody tr th {\n",
       "        vertical-align: top;\n",
       "    }\n",
       "\n",
       "    .dataframe thead th {\n",
       "        text-align: right;\n",
       "    }\n",
       "</style>\n",
       "<table border=\"1\" class=\"dataframe\">\n",
       "  <thead>\n",
       "    <tr style=\"text-align: right;\">\n",
       "      <th></th>\n",
       "      <th>DAU</th>\n",
       "      <th>tx_count</th>\n",
       "      <th>Volume($)</th>\n",
       "    </tr>\n",
       "    <tr>\n",
       "      <th>tx_date</th>\n",
       "      <th></th>\n",
       "      <th></th>\n",
       "      <th></th>\n",
       "    </tr>\n",
       "  </thead>\n",
       "  <tbody>\n",
       "    <tr>\n",
       "      <th>2016-01-01</th>\n",
       "      <td>8006</td>\n",
       "      <td>8233</td>\n",
       "      <td>206062</td>\n",
       "    </tr>\n",
       "    <tr>\n",
       "      <th>2016-01-02</th>\n",
       "      <td>8814</td>\n",
       "      <td>9164</td>\n",
       "      <td>255504</td>\n",
       "    </tr>\n",
       "    <tr>\n",
       "      <th>2016-01-03</th>\n",
       "      <td>9019</td>\n",
       "      <td>9258</td>\n",
       "      <td>407632</td>\n",
       "    </tr>\n",
       "    <tr>\n",
       "      <th>2016-01-04</th>\n",
       "      <td>9059</td>\n",
       "      <td>9474</td>\n",
       "      <td>346245</td>\n",
       "    </tr>\n",
       "    <tr>\n",
       "      <th>2016-01-05</th>\n",
       "      <td>11164</td>\n",
       "      <td>16430</td>\n",
       "      <td>219833</td>\n",
       "    </tr>\n",
       "  </tbody>\n",
       "</table>\n",
       "</div>"
      ],
      "text/plain": [
       "              DAU  tx_count  Volume($)\n",
       "tx_date                               \n",
       "2016-01-01   8006      8233     206062\n",
       "2016-01-02   8814      9164     255504\n",
       "2016-01-03   9019      9258     407632\n",
       "2016-01-04   9059      9474     346245\n",
       "2016-01-05  11164     16430     219833"
      ]
     },
     "execution_count": 7,
     "metadata": {},
     "output_type": "execute_result"
    }
   ],
   "source": [
    "top3 = result[['tx_date','DAU', 'tx_count', 'Volume($)']]\n",
    "top3 = top3.set_index('tx_date')\n",
    "top3.head()"
   ]
  },
  {
   "cell_type": "code",
   "execution_count": 8,
   "metadata": {},
   "outputs": [],
   "source": [
    "from sklearn.decomposition import PCA"
   ]
  },
  {
   "cell_type": "code",
   "execution_count": 9,
   "metadata": {},
   "outputs": [],
   "source": [
    "pca = PCA(n_components=1)"
   ]
  },
  {
   "cell_type": "code",
   "execution_count": 10,
   "metadata": {},
   "outputs": [],
   "source": [
    "model_pca = pca.fit(top3.values)"
   ]
  },
  {
   "cell_type": "code",
   "execution_count": 11,
   "metadata": {},
   "outputs": [
    {
     "data": {
      "text/plain": [
       "array([[-1.01159378e+09],\n",
       "       [-1.01154434e+09],\n",
       "       [-1.01139221e+09],\n",
       "       ...,\n",
       "       [ 2.15723018e+09],\n",
       "       [ 1.64828703e+09],\n",
       "       [ 1.34656045e+09]])"
      ]
     },
     "execution_count": 11,
     "metadata": {},
     "output_type": "execute_result"
    }
   ],
   "source": [
    "model_pca.transform(top3.values)"
   ]
  },
  {
   "cell_type": "code",
   "execution_count": 12,
   "metadata": {},
   "outputs": [
    {
     "data": {
      "text/plain": [
       "array([0.99999998])"
      ]
     },
     "execution_count": 12,
     "metadata": {},
     "output_type": "execute_result"
    }
   ],
   "source": [
    "model_pca.explained_variance_ratio_"
   ]
  },
  {
   "cell_type": "code",
   "execution_count": 13,
   "metadata": {},
   "outputs": [],
   "source": [
    "X = top3\n",
    "y = result['Market Cap($)']"
   ]
  },
  {
   "cell_type": "code",
   "execution_count": 14,
   "metadata": {},
   "outputs": [],
   "source": [
    "from sklearn.cross_decomposition import PLSRegression"
   ]
  },
  {
   "cell_type": "code",
   "execution_count": 15,
   "metadata": {},
   "outputs": [
    {
     "data": {
      "text/plain": [
       "PLSRegression(copy=True, max_iter=500, n_components=1, scale=True, tol=1e-06)"
      ]
     },
     "execution_count": 15,
     "metadata": {},
     "output_type": "execute_result"
    }
   ],
   "source": [
    "pls = PLSRegression(n_components=1)\n",
    "pls.fit(X, y)"
   ]
  },
  {
   "cell_type": "code",
   "execution_count": 16,
   "metadata": {},
   "outputs": [
    {
     "data": {
      "text/plain": [
       "0.832262975413609"
      ]
     },
     "execution_count": 16,
     "metadata": {},
     "output_type": "execute_result"
    }
   ],
   "source": [
    "pls.score(X, y)"
   ]
  }
 ],
 "metadata": {
  "kernelspec": {
   "display_name": "Python 3",
   "language": "python",
   "name": "python3"
  },
  "language_info": {
   "codemirror_mode": {
    "name": "ipython",
    "version": 3
   },
   "file_extension": ".py",
   "mimetype": "text/x-python",
   "name": "python",
   "nbconvert_exporter": "python",
   "pygments_lexer": "ipython3",
   "version": "3.7.1"
  }
 },
 "nbformat": 4,
 "nbformat_minor": 2
}
