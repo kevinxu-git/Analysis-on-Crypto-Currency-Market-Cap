{
 "cells": [
  {
   "cell_type": "code",
   "execution_count": 2,
   "metadata": {},
   "outputs": [
    {
     "data": {
      "text/html": [
       "<div>\n",
       "<style scoped>\n",
       "    .dataframe tbody tr th:only-of-type {\n",
       "        vertical-align: middle;\n",
       "    }\n",
       "\n",
       "    .dataframe tbody tr th {\n",
       "        vertical-align: top;\n",
       "    }\n",
       "\n",
       "    .dataframe thead th {\n",
       "        text-align: right;\n",
       "    }\n",
       "</style>\n",
       "<table border=\"1\" class=\"dataframe\">\n",
       "  <thead>\n",
       "    <tr style=\"text-align: right;\">\n",
       "      <th></th>\n",
       "      <th>tx_date</th>\n",
       "      <th>tx_count</th>\n",
       "      <th>Tx_volume_Ether</th>\n",
       "      <th>Tx_volume($)</th>\n",
       "      <th>tx_count_ERC20</th>\n",
       "      <th>Tx_volume_ERC20</th>\n",
       "      <th>Tx_volume_ERC20($)</th>\n",
       "      <th>Volume($)</th>\n",
       "      <th>Market Cap($)</th>\n",
       "      <th>DAU</th>\n",
       "      <th>CUM</th>\n",
       "    </tr>\n",
       "  </thead>\n",
       "  <tbody>\n",
       "    <tr>\n",
       "      <th>0</th>\n",
       "      <td>2016-01-01</td>\n",
       "      <td>8233</td>\n",
       "      <td>3.445478e+05</td>\n",
       "      <td>326639.542431</td>\n",
       "      <td>0.0</td>\n",
       "      <td>0.0</td>\n",
       "      <td>0.0</td>\n",
       "      <td>206062</td>\n",
       "      <td>71980386</td>\n",
       "      <td>8006</td>\n",
       "      <td>8006</td>\n",
       "    </tr>\n",
       "    <tr>\n",
       "      <th>1</th>\n",
       "      <td>2016-01-02</td>\n",
       "      <td>9164</td>\n",
       "      <td>2.592400e+05</td>\n",
       "      <td>242940.035122</td>\n",
       "      <td>0.0</td>\n",
       "      <td>0.0</td>\n",
       "      <td>0.0</td>\n",
       "      <td>255504</td>\n",
       "      <td>71176658</td>\n",
       "      <td>8814</td>\n",
       "      <td>16820</td>\n",
       "    </tr>\n",
       "    <tr>\n",
       "      <th>2</th>\n",
       "      <td>2016-01-03</td>\n",
       "      <td>9258</td>\n",
       "      <td>3.708200e+05</td>\n",
       "      <td>360401.805781</td>\n",
       "      <td>0.0</td>\n",
       "      <td>0.0</td>\n",
       "      <td>0.0</td>\n",
       "      <td>407632</td>\n",
       "      <td>73843292</td>\n",
       "      <td>9019</td>\n",
       "      <td>25839</td>\n",
       "    </tr>\n",
       "    <tr>\n",
       "      <th>3</th>\n",
       "      <td>2016-01-04</td>\n",
       "      <td>9474</td>\n",
       "      <td>1.541255e+05</td>\n",
       "      <td>147109.680450</td>\n",
       "      <td>0.0</td>\n",
       "      <td>0.0</td>\n",
       "      <td>0.0</td>\n",
       "      <td>346245</td>\n",
       "      <td>72543707</td>\n",
       "      <td>9059</td>\n",
       "      <td>34898</td>\n",
       "    </tr>\n",
       "    <tr>\n",
       "      <th>4</th>\n",
       "      <td>2016-01-05</td>\n",
       "      <td>16430</td>\n",
       "      <td>1.036291e+06</td>\n",
       "      <td>984659.012911</td>\n",
       "      <td>0.0</td>\n",
       "      <td>0.0</td>\n",
       "      <td>0.0</td>\n",
       "      <td>219833</td>\n",
       "      <td>72240974</td>\n",
       "      <td>11164</td>\n",
       "      <td>46062</td>\n",
       "    </tr>\n",
       "  </tbody>\n",
       "</table>\n",
       "</div>"
      ],
      "text/plain": [
       "      tx_date  tx_count  Tx_volume_Ether   Tx_volume($)  tx_count_ERC20  \\\n",
       "0  2016-01-01      8233     3.445478e+05  326639.542431             0.0   \n",
       "1  2016-01-02      9164     2.592400e+05  242940.035122             0.0   \n",
       "2  2016-01-03      9258     3.708200e+05  360401.805781             0.0   \n",
       "3  2016-01-04      9474     1.541255e+05  147109.680450             0.0   \n",
       "4  2016-01-05     16430     1.036291e+06  984659.012911             0.0   \n",
       "\n",
       "   Tx_volume_ERC20  Tx_volume_ERC20($)  Volume($)  Market Cap($)    DAU    CUM  \n",
       "0              0.0                 0.0     206062       71980386   8006   8006  \n",
       "1              0.0                 0.0     255504       71176658   8814  16820  \n",
       "2              0.0                 0.0     407632       73843292   9019  25839  \n",
       "3              0.0                 0.0     346245       72543707   9059  34898  \n",
       "4              0.0                 0.0     219833       72240974  11164  46062  "
      ]
     },
     "execution_count": 2,
     "metadata": {},
     "output_type": "execute_result"
    }
   ],
   "source": [
    "import pandas as pd\n",
    "\n",
    "result = pd.read_csv(\"result.csv\")\n",
    "del result['Unnamed: 0']\n",
    "result.head()"
   ]
  },
  {
   "cell_type": "code",
   "execution_count": 4,
   "metadata": {},
   "outputs": [
    {
     "data": {
      "text/html": [
       "<div>\n",
       "<style scoped>\n",
       "    .dataframe tbody tr th:only-of-type {\n",
       "        vertical-align: middle;\n",
       "    }\n",
       "\n",
       "    .dataframe tbody tr th {\n",
       "        vertical-align: top;\n",
       "    }\n",
       "\n",
       "    .dataframe thead th {\n",
       "        text-align: right;\n",
       "    }\n",
       "</style>\n",
       "<table border=\"1\" class=\"dataframe\">\n",
       "  <thead>\n",
       "    <tr style=\"text-align: right;\">\n",
       "      <th></th>\n",
       "      <th>Coef</th>\n",
       "      <th>Score</th>\n",
       "    </tr>\n",
       "    <tr>\n",
       "      <th>x_lst</th>\n",
       "      <th></th>\n",
       "      <th></th>\n",
       "    </tr>\n",
       "  </thead>\n",
       "  <tbody>\n",
       "    <tr>\n",
       "      <th>tx_count</th>\n",
       "      <td>7.853991e+04</td>\n",
       "      <td>0.815805</td>\n",
       "    </tr>\n",
       "    <tr>\n",
       "      <th>Tx_volume_Ether</th>\n",
       "      <td>7.874096e+02</td>\n",
       "      <td>0.033819</td>\n",
       "    </tr>\n",
       "    <tr>\n",
       "      <th>Tx_volume($)</th>\n",
       "      <td>5.828936e+00</td>\n",
       "      <td>0.433478</td>\n",
       "    </tr>\n",
       "    <tr>\n",
       "      <th>tx_count_ERC20</th>\n",
       "      <td>8.718415e+04</td>\n",
       "      <td>0.361827</td>\n",
       "    </tr>\n",
       "    <tr>\n",
       "      <th>Tx_volume_ERC20</th>\n",
       "      <td>-3.055525e-53</td>\n",
       "      <td>0.001385</td>\n",
       "    </tr>\n",
       "    <tr>\n",
       "      <th>Tx_volume_ERC20($)</th>\n",
       "      <td>-7.225363e-56</td>\n",
       "      <td>0.000188</td>\n",
       "    </tr>\n",
       "    <tr>\n",
       "      <th>Volume($)</th>\n",
       "      <td>1.784916e+01</td>\n",
       "      <td>0.700871</td>\n",
       "    </tr>\n",
       "    <tr>\n",
       "      <th>DAU</th>\n",
       "      <td>1.327946e+05</td>\n",
       "      <td>0.848060</td>\n",
       "    </tr>\n",
       "    <tr>\n",
       "      <th>CUM</th>\n",
       "      <td>1.976944e+02</td>\n",
       "      <td>0.271924</td>\n",
       "    </tr>\n",
       "  </tbody>\n",
       "</table>\n",
       "</div>"
      ],
      "text/plain": [
       "                            Coef     Score\n",
       "x_lst                                     \n",
       "tx_count            7.853991e+04  0.815805\n",
       "Tx_volume_Ether     7.874096e+02  0.033819\n",
       "Tx_volume($)        5.828936e+00  0.433478\n",
       "tx_count_ERC20      8.718415e+04  0.361827\n",
       "Tx_volume_ERC20    -3.055525e-53  0.001385\n",
       "Tx_volume_ERC20($) -7.225363e-56  0.000188\n",
       "Volume($)           1.784916e+01  0.700871\n",
       "DAU                 1.327946e+05  0.848060\n",
       "CUM                 1.976944e+02  0.271924"
      ]
     },
     "execution_count": 4,
     "metadata": {},
     "output_type": "execute_result"
    }
   ],
   "source": [
    "final = pd.read_csv(\"final.csv\")\n",
    "final.set_index(\"x_lst\")"
   ]
  },
  {
   "cell_type": "code",
   "execution_count": 5,
   "metadata": {},
   "outputs": [
    {
     "data": {
      "text/html": [
       "<div>\n",
       "<style scoped>\n",
       "    .dataframe tbody tr th:only-of-type {\n",
       "        vertical-align: middle;\n",
       "    }\n",
       "\n",
       "    .dataframe tbody tr th {\n",
       "        vertical-align: top;\n",
       "    }\n",
       "\n",
       "    .dataframe thead th {\n",
       "        text-align: right;\n",
       "    }\n",
       "</style>\n",
       "<table border=\"1\" class=\"dataframe\">\n",
       "  <thead>\n",
       "    <tr style=\"text-align: right;\">\n",
       "      <th></th>\n",
       "      <th>DAU</th>\n",
       "      <th>tx_count</th>\n",
       "      <th>Volume($)</th>\n",
       "    </tr>\n",
       "    <tr>\n",
       "      <th>tx_date</th>\n",
       "      <th></th>\n",
       "      <th></th>\n",
       "      <th></th>\n",
       "    </tr>\n",
       "  </thead>\n",
       "  <tbody>\n",
       "    <tr>\n",
       "      <th>2016-01-01</th>\n",
       "      <td>8006</td>\n",
       "      <td>8233</td>\n",
       "      <td>206062</td>\n",
       "    </tr>\n",
       "    <tr>\n",
       "      <th>2016-01-02</th>\n",
       "      <td>8814</td>\n",
       "      <td>9164</td>\n",
       "      <td>255504</td>\n",
       "    </tr>\n",
       "    <tr>\n",
       "      <th>2016-01-03</th>\n",
       "      <td>9019</td>\n",
       "      <td>9258</td>\n",
       "      <td>407632</td>\n",
       "    </tr>\n",
       "    <tr>\n",
       "      <th>2016-01-04</th>\n",
       "      <td>9059</td>\n",
       "      <td>9474</td>\n",
       "      <td>346245</td>\n",
       "    </tr>\n",
       "    <tr>\n",
       "      <th>2016-01-05</th>\n",
       "      <td>11164</td>\n",
       "      <td>16430</td>\n",
       "      <td>219833</td>\n",
       "    </tr>\n",
       "  </tbody>\n",
       "</table>\n",
       "</div>"
      ],
      "text/plain": [
       "              DAU  tx_count  Volume($)\n",
       "tx_date                               \n",
       "2016-01-01   8006      8233     206062\n",
       "2016-01-02   8814      9164     255504\n",
       "2016-01-03   9019      9258     407632\n",
       "2016-01-04   9059      9474     346245\n",
       "2016-01-05  11164     16430     219833"
      ]
     },
     "execution_count": 5,
     "metadata": {},
     "output_type": "execute_result"
    }
   ],
   "source": [
    "top3 = result[['tx_date','DAU', 'tx_count', 'Volume($)']]\n",
    "top3 = top3.set_index('tx_date')\n",
    "top3.head()"
   ]
  },
  {
   "cell_type": "markdown",
   "metadata": {},
   "source": [
    "## DAU와 Market Cap간의 관계"
   ]
  },
  {
   "cell_type": "markdown",
   "metadata": {},
   "source": [
    "### Etherscan label로 exchange account 구별"
   ]
  },
  {
   "cell_type": "code",
   "execution_count": 51,
   "metadata": {},
   "outputs": [],
   "source": [
    "import requests\n",
    "from bs4 import BeautifulSoup\n",
    "\n",
    "def label_lst(url):\n",
    "    response = requests.get(url)\n",
    "    html = response.text\n",
    "    soup=BeautifulSoup(html,'html.parser')\n",
    "\n",
    "    columns=soup.select('div.table-responsive > table > thead > tr > th')\n",
    "    columnlist=[]\n",
    "    for column in columns:\n",
    "        columnlist.append(column.text)\n",
    "\n",
    "    contents=soup.select('div.table-responsive > table > tbody > tr')\n",
    "    dfcontent=[]\n",
    "    alldfcontents=[]\n",
    "\n",
    "    for content in contents:\n",
    "        tds=content.find_all(\"td\")\n",
    "        for td in tds:\n",
    "            dfcontent.append(td.text)\n",
    "        alldfcontents.append(dfcontent)\n",
    "        dfcontent=[]\n",
    "    \n",
    "    df = pd.DataFrame(columns=columnlist, data=alldfcontents)\n",
    "    \n",
    "    return df"
   ]
  },
  {
   "cell_type": "code",
   "execution_count": 52,
   "metadata": {},
   "outputs": [],
   "source": [
    "url = \"https://etherscan.io/accounts/1?ps=100&l=Exchange\""
   ]
  },
  {
   "cell_type": "code",
   "execution_count": 53,
   "metadata": {},
   "outputs": [],
   "source": [
    "url2 = \"https://etherscan.io/accounts/2?ps=100&l=Exchange\""
   ]
  },
  {
   "cell_type": "code",
   "execution_count": 54,
   "metadata": {},
   "outputs": [],
   "source": [
    "label1 = label_lst(url)\n",
    "label2 = label_lst(url2)\n",
    "frames = [label1, label2]\n",
    "label = pd.concat(frames)"
   ]
  },
  {
   "cell_type": "code",
   "execution_count": 60,
   "metadata": {},
   "outputs": [],
   "source": [
    "label.columns = ['Index', 'Address', 'Label', 'Balance', 'TxCount']\n",
    "del label['Index']"
   ]
  },
  {
   "cell_type": "code",
   "execution_count": 65,
   "metadata": {},
   "outputs": [],
   "source": [
    "label.to_csv(\"Exchange_labels.csv\")"
   ]
  },
  {
   "cell_type": "code",
   "execution_count": 69,
   "metadata": {},
   "outputs": [
    {
     "data": {
      "text/html": [
       "<div>\n",
       "<style scoped>\n",
       "    .dataframe tbody tr th:only-of-type {\n",
       "        vertical-align: middle;\n",
       "    }\n",
       "\n",
       "    .dataframe tbody tr th {\n",
       "        vertical-align: top;\n",
       "    }\n",
       "\n",
       "    .dataframe thead th {\n",
       "        text-align: right;\n",
       "    }\n",
       "</style>\n",
       "<table border=\"1\" class=\"dataframe\">\n",
       "  <thead>\n",
       "    <tr style=\"text-align: right;\">\n",
       "      <th></th>\n",
       "      <th>tx_date</th>\n",
       "      <th>tx_count</th>\n",
       "      <th>Tx_volume_Ether</th>\n",
       "    </tr>\n",
       "  </thead>\n",
       "  <tbody>\n",
       "    <tr>\n",
       "      <th>0</th>\n",
       "      <td>2016-01-01</td>\n",
       "      <td>5802</td>\n",
       "      <td>228824.645462</td>\n",
       "    </tr>\n",
       "    <tr>\n",
       "      <th>1</th>\n",
       "      <td>2016-01-02</td>\n",
       "      <td>6624</td>\n",
       "      <td>186976.122885</td>\n",
       "    </tr>\n",
       "    <tr>\n",
       "      <th>2</th>\n",
       "      <td>2016-01-03</td>\n",
       "      <td>6719</td>\n",
       "      <td>271070.356268</td>\n",
       "    </tr>\n",
       "    <tr>\n",
       "      <th>3</th>\n",
       "      <td>2016-01-04</td>\n",
       "      <td>6969</td>\n",
       "      <td>116243.753852</td>\n",
       "    </tr>\n",
       "    <tr>\n",
       "      <th>4</th>\n",
       "      <td>2016-01-05</td>\n",
       "      <td>13886</td>\n",
       "      <td>383397.969954</td>\n",
       "    </tr>\n",
       "  </tbody>\n",
       "</table>\n",
       "</div>"
      ],
      "text/plain": [
       "      tx_date  tx_count  Tx_volume_Ether\n",
       "0  2016-01-01      5802    228824.645462\n",
       "1  2016-01-02      6624    186976.122885\n",
       "2  2016-01-03      6719    271070.356268\n",
       "3  2016-01-04      6969    116243.753852\n",
       "4  2016-01-05     13886    383397.969954"
      ]
     },
     "execution_count": 69,
     "metadata": {},
     "output_type": "execute_result"
    }
   ],
   "source": [
    "import google\n",
    "from google.cloud import bigquery\n",
    "import pandas as pd\n",
    "\n",
    "client = bigquery.Client()\n",
    "\n",
    "sql = \"\"\"\n",
    "SELECT \n",
    "  DATE_TRUNC(DATE(transactions.block_timestamp), DAY) AS tx_date, \n",
    "  COUNT(*) AS tx_count, \n",
    "  SUM(transactions.value/POWER(10,18)) AS Tx_volume_Ether\n",
    "FROM `bigquery-public-data.ethereum_blockchain.transactions` AS transactions\n",
    "WHERE transactions.to_address NOT IN (SELECT Address FROM Exchange_labels.exchange_labels) and\n",
    "      DATE(transactions.block_timestamp) >= DATE('2016-01-01') and DATE(transactions.block_timestamp) <= DATE('2018-12-31')\n",
    "GROUP BY tx_date\n",
    "ORDER by tx_date ASC\n",
    "\"\"\"\n",
    "df = client.query(sql).to_dataframe()\n",
    "df.head()"
   ]
  },
  {
   "cell_type": "code",
   "execution_count": 70,
   "metadata": {},
   "outputs": [
    {
     "data": {
      "text/html": [
       "<div>\n",
       "<style scoped>\n",
       "    .dataframe tbody tr th:only-of-type {\n",
       "        vertical-align: middle;\n",
       "    }\n",
       "\n",
       "    .dataframe tbody tr th {\n",
       "        vertical-align: top;\n",
       "    }\n",
       "\n",
       "    .dataframe thead th {\n",
       "        text-align: right;\n",
       "    }\n",
       "</style>\n",
       "<table border=\"1\" class=\"dataframe\">\n",
       "  <thead>\n",
       "    <tr style=\"text-align: right;\">\n",
       "      <th></th>\n",
       "      <th>tx_date</th>\n",
       "      <th>tx_count_ERC20</th>\n",
       "      <th>Tx_volume_ERC20</th>\n",
       "    </tr>\n",
       "  </thead>\n",
       "  <tbody>\n",
       "    <tr>\n",
       "      <th>0</th>\n",
       "      <td>2016-01-06</td>\n",
       "      <td>1</td>\n",
       "      <td>1.000000e-15</td>\n",
       "    </tr>\n",
       "    <tr>\n",
       "      <th>1</th>\n",
       "      <td>2016-01-07</td>\n",
       "      <td>5</td>\n",
       "      <td>1.401200e-12</td>\n",
       "    </tr>\n",
       "    <tr>\n",
       "      <th>2</th>\n",
       "      <td>2016-01-09</td>\n",
       "      <td>7</td>\n",
       "      <td>5.010630e-11</td>\n",
       "    </tr>\n",
       "    <tr>\n",
       "      <th>3</th>\n",
       "      <td>2016-01-12</td>\n",
       "      <td>1</td>\n",
       "      <td>0.000000e+00</td>\n",
       "    </tr>\n",
       "    <tr>\n",
       "      <th>4</th>\n",
       "      <td>2016-01-13</td>\n",
       "      <td>1</td>\n",
       "      <td>5.000000e-06</td>\n",
       "    </tr>\n",
       "  </tbody>\n",
       "</table>\n",
       "</div>"
      ],
      "text/plain": [
       "      tx_date  tx_count_ERC20  Tx_volume_ERC20\n",
       "0  2016-01-06               1     1.000000e-15\n",
       "1  2016-01-07               5     1.401200e-12\n",
       "2  2016-01-09               7     5.010630e-11\n",
       "3  2016-01-12               1     0.000000e+00\n",
       "4  2016-01-13               1     5.000000e-06"
      ]
     },
     "execution_count": 70,
     "metadata": {},
     "output_type": "execute_result"
    }
   ],
   "source": [
    "sql = \"\"\"\n",
    "SELECT \n",
    "  DATE_TRUNC(DATE(transactions.block_timestamp), DAY) AS tx_date, \n",
    "  COUNT(*) AS tx_count_ERC20, \n",
    "  SUM(CAST(transactions.value AS FLOAT64)/POWER(10,18)) AS Tx_volume_ERC20\n",
    "FROM `bigquery-public-data.ethereum_blockchain.token_transfers` AS transactions\n",
    "WHERE transactions.to_address NOT IN (SELECT Address FROM Exchange_labels.exchange_labels) and\n",
    "      DATE(transactions.block_timestamp) >= DATE('2016-01-01') and DATE(transactions.block_timestamp) <= DATE('2018-12-31')\n",
    "GROUP BY tx_date\n",
    "ORDER by tx_date ASC\n",
    "\"\"\"\n",
    "df_ERC20 = client.query(sql).to_dataframe()\n",
    "df_ERC20.head()"
   ]
  },
  {
   "cell_type": "code",
   "execution_count": 71,
   "metadata": {},
   "outputs": [
    {
     "data": {
      "text/html": [
       "<div>\n",
       "<style scoped>\n",
       "    .dataframe tbody tr th:only-of-type {\n",
       "        vertical-align: middle;\n",
       "    }\n",
       "\n",
       "    .dataframe tbody tr th {\n",
       "        vertical-align: top;\n",
       "    }\n",
       "\n",
       "    .dataframe thead th {\n",
       "        text-align: right;\n",
       "    }\n",
       "</style>\n",
       "<table border=\"1\" class=\"dataframe\">\n",
       "  <thead>\n",
       "    <tr style=\"text-align: right;\">\n",
       "      <th></th>\n",
       "      <th>tx_date</th>\n",
       "      <th>DAU</th>\n",
       "    </tr>\n",
       "  </thead>\n",
       "  <tbody>\n",
       "    <tr>\n",
       "      <th>0</th>\n",
       "      <td>2016-01-01</td>\n",
       "      <td>5602</td>\n",
       "    </tr>\n",
       "    <tr>\n",
       "      <th>1</th>\n",
       "      <td>2016-01-02</td>\n",
       "      <td>6298</td>\n",
       "    </tr>\n",
       "    <tr>\n",
       "      <th>2</th>\n",
       "      <td>2016-01-03</td>\n",
       "      <td>6490</td>\n",
       "    </tr>\n",
       "    <tr>\n",
       "      <th>3</th>\n",
       "      <td>2016-01-04</td>\n",
       "      <td>6603</td>\n",
       "    </tr>\n",
       "    <tr>\n",
       "      <th>4</th>\n",
       "      <td>2016-01-05</td>\n",
       "      <td>8670</td>\n",
       "    </tr>\n",
       "  </tbody>\n",
       "</table>\n",
       "</div>"
      ],
      "text/plain": [
       "      tx_date   DAU\n",
       "0  2016-01-01  5602\n",
       "1  2016-01-02  6298\n",
       "2  2016-01-03  6490\n",
       "3  2016-01-04  6603\n",
       "4  2016-01-05  8670"
      ]
     },
     "execution_count": 71,
     "metadata": {},
     "output_type": "execute_result"
    }
   ],
   "source": [
    "sql = \"\"\"\n",
    "SELECT \n",
    "  DATE_TRUNC(DATE(transactions.block_timestamp), DAY) AS tx_date,\n",
    "  COUNT(transactions.from_address) AS DAU\n",
    "  \n",
    "FROM `bigquery-public-data.ethereum_blockchain.transactions` AS transactions\n",
    "WHERE\n",
    "  transactions.to_address NOT IN (SELECT Address FROM Exchange_labels.exchange_labels)\n",
    "  AND DATE(transactions.block_timestamp) >= DATE('2016-01-01') and DATE(transactions.block_timestamp) <= DATE('2018-12-31')\n",
    "  AND transactions.to_address is not null\n",
    "  AND transactions.value > 0\n",
    "  \n",
    "GROUP BY tx_date\n",
    "ORDER by tx_date ASC\n",
    "\"\"\"\n",
    "df_DAU = client.query(sql).to_dataframe()\n",
    "df_DAU.head()"
   ]
  },
  {
   "cell_type": "code",
   "execution_count": 72,
   "metadata": {},
   "outputs": [],
   "source": [
    "result = pd.read_csv(\"result.csv\")\n",
    "del result['Unnamed: 0']"
   ]
  },
  {
   "cell_type": "code",
   "execution_count": 75,
   "metadata": {},
   "outputs": [
    {
     "data": {
      "text/html": [
       "<div>\n",
       "<style scoped>\n",
       "    .dataframe tbody tr th:only-of-type {\n",
       "        vertical-align: middle;\n",
       "    }\n",
       "\n",
       "    .dataframe tbody tr th {\n",
       "        vertical-align: top;\n",
       "    }\n",
       "\n",
       "    .dataframe thead th {\n",
       "        text-align: right;\n",
       "    }\n",
       "</style>\n",
       "<table border=\"1\" class=\"dataframe\">\n",
       "  <thead>\n",
       "    <tr style=\"text-align: right;\">\n",
       "      <th></th>\n",
       "      <th>tx_date</th>\n",
       "      <th>tx_count</th>\n",
       "      <th>Tx_volume_Ether</th>\n",
       "      <th>Tx_volume($)</th>\n",
       "      <th>tx_count_ERC20</th>\n",
       "      <th>Tx_volume_ERC20</th>\n",
       "      <th>Tx_volume_ERC20($)</th>\n",
       "      <th>Volume($)</th>\n",
       "      <th>Market Cap($)</th>\n",
       "      <th>DAU</th>\n",
       "      <th>CUM</th>\n",
       "    </tr>\n",
       "  </thead>\n",
       "  <tbody>\n",
       "    <tr>\n",
       "      <th>0</th>\n",
       "      <td>2016-01-01</td>\n",
       "      <td>8233</td>\n",
       "      <td>3.445478e+05</td>\n",
       "      <td>326639.542431</td>\n",
       "      <td>0.0</td>\n",
       "      <td>0.0</td>\n",
       "      <td>0.0</td>\n",
       "      <td>206062</td>\n",
       "      <td>71980386</td>\n",
       "      <td>8006</td>\n",
       "      <td>8006</td>\n",
       "    </tr>\n",
       "    <tr>\n",
       "      <th>1</th>\n",
       "      <td>2016-01-02</td>\n",
       "      <td>9164</td>\n",
       "      <td>2.592400e+05</td>\n",
       "      <td>242940.035122</td>\n",
       "      <td>0.0</td>\n",
       "      <td>0.0</td>\n",
       "      <td>0.0</td>\n",
       "      <td>255504</td>\n",
       "      <td>71176658</td>\n",
       "      <td>8814</td>\n",
       "      <td>16820</td>\n",
       "    </tr>\n",
       "    <tr>\n",
       "      <th>2</th>\n",
       "      <td>2016-01-03</td>\n",
       "      <td>9258</td>\n",
       "      <td>3.708200e+05</td>\n",
       "      <td>360401.805781</td>\n",
       "      <td>0.0</td>\n",
       "      <td>0.0</td>\n",
       "      <td>0.0</td>\n",
       "      <td>407632</td>\n",
       "      <td>73843292</td>\n",
       "      <td>9019</td>\n",
       "      <td>25839</td>\n",
       "    </tr>\n",
       "    <tr>\n",
       "      <th>3</th>\n",
       "      <td>2016-01-04</td>\n",
       "      <td>9474</td>\n",
       "      <td>1.541255e+05</td>\n",
       "      <td>147109.680450</td>\n",
       "      <td>0.0</td>\n",
       "      <td>0.0</td>\n",
       "      <td>0.0</td>\n",
       "      <td>346245</td>\n",
       "      <td>72543707</td>\n",
       "      <td>9059</td>\n",
       "      <td>34898</td>\n",
       "    </tr>\n",
       "    <tr>\n",
       "      <th>4</th>\n",
       "      <td>2016-01-05</td>\n",
       "      <td>16430</td>\n",
       "      <td>1.036291e+06</td>\n",
       "      <td>984659.012911</td>\n",
       "      <td>0.0</td>\n",
       "      <td>0.0</td>\n",
       "      <td>0.0</td>\n",
       "      <td>219833</td>\n",
       "      <td>72240974</td>\n",
       "      <td>11164</td>\n",
       "      <td>46062</td>\n",
       "    </tr>\n",
       "  </tbody>\n",
       "</table>\n",
       "</div>"
      ],
      "text/plain": [
       "      tx_date  tx_count  Tx_volume_Ether   Tx_volume($)  tx_count_ERC20  \\\n",
       "0  2016-01-01      8233     3.445478e+05  326639.542431             0.0   \n",
       "1  2016-01-02      9164     2.592400e+05  242940.035122             0.0   \n",
       "2  2016-01-03      9258     3.708200e+05  360401.805781             0.0   \n",
       "3  2016-01-04      9474     1.541255e+05  147109.680450             0.0   \n",
       "4  2016-01-05     16430     1.036291e+06  984659.012911             0.0   \n",
       "\n",
       "   Tx_volume_ERC20  Tx_volume_ERC20($)  Volume($)  Market Cap($)    DAU    CUM  \n",
       "0              0.0                 0.0     206062       71980386   8006   8006  \n",
       "1              0.0                 0.0     255504       71176658   8814  16820  \n",
       "2              0.0                 0.0     407632       73843292   9019  25839  \n",
       "3              0.0                 0.0     346245       72543707   9059  34898  \n",
       "4              0.0                 0.0     219833       72240974  11164  46062  "
      ]
     },
     "execution_count": 75,
     "metadata": {},
     "output_type": "execute_result"
    }
   ],
   "source": [
    "result.head()"
   ]
  },
  {
   "cell_type": "code",
   "execution_count": 89,
   "metadata": {},
   "outputs": [
    {
     "name": "stdout",
     "output_type": "stream",
     "text": [
      "coef :  143080.31524232033 \n",
      "R score :  0.8441994120999677\n"
     ]
    }
   ],
   "source": [
    "from sklearn import linear_model\n",
    "from sklearn.metrics import mean_squared_error, r2_score\n",
    "\n",
    "X = df_DAU['DAU'].values\n",
    "y = result['Market Cap($)'].values\n",
    "X = X.reshape(len(X), 1)\n",
    "y = y.reshape(len(y), 1)\n",
    "regr = linear_model.LinearRegression()\n",
    "regr.fit(X, y)\n",
    "print(\"coef : \", regr.coef_[0][0],\"\\nR score : \", regr.score(X, y))"
   ]
  },
  {
   "cell_type": "code",
   "execution_count": 103,
   "metadata": {},
   "outputs": [
    {
     "name": "stdout",
     "output_type": "stream",
     "text": [
      "Difference between two DAUs R score:  0.0038605879000322973\n"
     ]
    }
   ],
   "source": [
    "print(\"Difference between two DAUs R score: \" , 0.848060 - 0.8441994120999677)"
   ]
  },
  {
   "cell_type": "code",
   "execution_count": 105,
   "metadata": {},
   "outputs": [
    {
     "data": {
      "text/html": [
       "<iframe id=\"igraph\" scrolling=\"no\" style=\"border:none;\" seamless=\"seamless\" src=\"https://plot.ly/~Julie_heart/81.embed\" height=\"525px\" width=\"100%\"></iframe>"
      ],
      "text/plain": [
       "<plotly.tools.PlotlyDisplay object>"
      ]
     },
     "execution_count": 105,
     "metadata": {},
     "output_type": "execute_result"
    }
   ],
   "source": [
    "import plotly.plotly as py\n",
    "import plotly.graph_objs as go\n",
    "\n",
    "high = go.Scatter(x=result['tx_date'], y=result['DAU'], name = 'DAU with exchange', line = dict(color = '#17BECF'), opacity = 0.8)\n",
    "\n",
    "low = go.Scatter(x=df_DAU['tx_date'], y=df_DAU['DAU'], name = 'DAU', line = dict(color = '#fef01b'), opacity = 0.8)\n",
    "\n",
    "plot_data = [high,low]\n",
    "\n",
    "py.iplot(plot_data, filename = 'time-series-simple')\n",
    "\n",
    "layout = dict(\n",
    "    title = \"DAUs\",\n",
    "    xaxis = dict(\n",
    "        range = ['2016-01-01','2018-12-31'])\n",
    ")\n",
    "\n",
    "fig = dict(data=plot_data, layout=layout)\n",
    "\n",
    "py.iplot(fig, filename = \"DAUs\")"
   ]
  },
  {
   "cell_type": "markdown",
   "metadata": {},
   "source": [
    "> 2018년 5월 4일, exchange transaction이 포함된 DAU의 경우 710.919k, 조정된 값의 경우 402.397k"
   ]
  },
  {
   "cell_type": "code",
   "execution_count": 119,
   "metadata": {},
   "outputs": [
    {
     "data": {
      "text/html": [
       "<div>\n",
       "<style scoped>\n",
       "    .dataframe tbody tr th:only-of-type {\n",
       "        vertical-align: middle;\n",
       "    }\n",
       "\n",
       "    .dataframe tbody tr th {\n",
       "        vertical-align: top;\n",
       "    }\n",
       "\n",
       "    .dataframe thead th {\n",
       "        text-align: right;\n",
       "    }\n",
       "</style>\n",
       "<table border=\"1\" class=\"dataframe\">\n",
       "  <thead>\n",
       "    <tr style=\"text-align: right;\">\n",
       "      <th></th>\n",
       "      <th>from_Address</th>\n",
       "      <th>to_address</th>\n",
       "      <th>value</th>\n",
       "    </tr>\n",
       "  </thead>\n",
       "  <tbody>\n",
       "    <tr>\n",
       "      <th>0</th>\n",
       "      <td>0x004075e4d4b1ce6c48c81cc940e2bad24b489e64</td>\n",
       "      <td>0x14fbca95be7e99c15cc2996c6c9d841e54b79425</td>\n",
       "      <td>0</td>\n",
       "    </tr>\n",
       "    <tr>\n",
       "      <th>1</th>\n",
       "      <td>0x25c6bf07f3848d146ab24f815cf9a3b1c4a1f27d</td>\n",
       "      <td>0x97e46522e754da786487ec752a1f1c495b9665c1</td>\n",
       "      <td>0</td>\n",
       "    </tr>\n",
       "    <tr>\n",
       "      <th>2</th>\n",
       "      <td>0xf008e2c7a7f16ac706c2e0ebd3f015d442016420</td>\n",
       "      <td>0x09678741bd50c3e74301f38fbd0136307099ae5d</td>\n",
       "      <td>0</td>\n",
       "    </tr>\n",
       "    <tr>\n",
       "      <th>3</th>\n",
       "      <td>0x03747f06215b44e498831da019b27f53e483599f</td>\n",
       "      <td>0xa74476443119a942de498590fe1f2454d7d4ac0d</td>\n",
       "      <td>0</td>\n",
       "    </tr>\n",
       "    <tr>\n",
       "      <th>4</th>\n",
       "      <td>0x0a3d5c8894bbe1e9113e4ed6f0c3b0d4fa6b131e</td>\n",
       "      <td>0xdfc85c08d5e5924ab49750e006cf8a826ffb7b13</td>\n",
       "      <td>0</td>\n",
       "    </tr>\n",
       "  </tbody>\n",
       "</table>\n",
       "</div>"
      ],
      "text/plain": [
       "                                 from_Address  \\\n",
       "0  0x004075e4d4b1ce6c48c81cc940e2bad24b489e64   \n",
       "1  0x25c6bf07f3848d146ab24f815cf9a3b1c4a1f27d   \n",
       "2  0xf008e2c7a7f16ac706c2e0ebd3f015d442016420   \n",
       "3  0x03747f06215b44e498831da019b27f53e483599f   \n",
       "4  0x0a3d5c8894bbe1e9113e4ed6f0c3b0d4fa6b131e   \n",
       "\n",
       "                                   to_address value  \n",
       "0  0x14fbca95be7e99c15cc2996c6c9d841e54b79425     0  \n",
       "1  0x97e46522e754da786487ec752a1f1c495b9665c1     0  \n",
       "2  0x09678741bd50c3e74301f38fbd0136307099ae5d     0  \n",
       "3  0xa74476443119a942de498590fe1f2454d7d4ac0d     0  \n",
       "4  0xdfc85c08d5e5924ab49750e006cf8a826ffb7b13     0  "
      ]
     },
     "execution_count": 119,
     "metadata": {},
     "output_type": "execute_result"
    }
   ],
   "source": [
    "sql = \"\"\"\n",
    "SELECT \n",
    "  transactions.from_address AS from_Address,\n",
    "  transactions.to_address AS to_address,\n",
    "  transactions.value AS value\n",
    "\n",
    "FROM `bigquery-public-data.ethereum_blockchain.transactions` AS transactions\n",
    "WHERE DATE(transactions.block_timestamp) = DATE('2018-05-04')\n",
    "\"\"\"\n",
    "date_data = client.query(sql).to_dataframe()\n",
    "date_data.head()"
   ]
  },
  {
   "cell_type": "code",
   "execution_count": 146,
   "metadata": {},
   "outputs": [
    {
     "data": {
      "text/plain": [
       "32"
      ]
     },
     "execution_count": 146,
     "metadata": {},
     "output_type": "execute_result"
    }
   ],
   "source": [
    "# 거래소에 0 value로 전송한 transaction 수\n",
    "d = date_data[date_data['to_address'].isin(label.Address.tolist())]\n",
    "len(d[d['value'] == 0])"
   ]
  },
  {
   "cell_type": "code",
   "execution_count": 125,
   "metadata": {},
   "outputs": [],
   "source": [
    "lst = date_data[date_data['to_address'].isin(label.Address.tolist())].to_address.unique().tolist()"
   ]
  },
  {
   "cell_type": "code",
   "execution_count": 140,
   "metadata": {},
   "outputs": [
    {
     "name": "stdout",
     "output_type": "stream",
     "text": [
      "['Bibox', 'BigONE', 'Bilaxy', 'Binance_1', 'Binance_2', 'Binance_3', 'Binance_4', 'Bitfinex_4', 'Bitfinex_5', 'Bittrex_1', 'Bittrex_2', 'Bity.com', 'Changelly', 'Cobinhood_1', 'Cobinhood_2', 'CoinExchange.io', 'Coinbene', 'Coindelta', 'Coinex', 'Gate.io_1', 'Gate.io_3', 'Gemini_2', 'HitBTC_2', 'HitBTC_3', 'Hotbit', 'Huobi_5', 'Huobi_9', 'Kraken_5', 'Kucoin', 'Liqui.io_1', 'Okex_1', 'Poloniex_2', 'Remitano', 'ShapeShift_3', 'ShapeShift_4', 'ShapeShift_5', 'ShapeShift_6', 'ShapeShift_7', 'Upbit']\n"
     ]
    }
   ],
   "source": [
    "# 당일 거래가 일어났던 Exchange\n",
    "label_lst = []\n",
    "for address in lst:\n",
    "    label_lst.append(label[label['Address'] == address].Label.values[0])\n",
    "print(sorted(label_lst))"
   ]
  },
  {
   "cell_type": "code",
   "execution_count": 154,
   "metadata": {},
   "outputs": [],
   "source": [
    "exchange = date_data.groupby(by='to_address').size().reset_index(name='tx_count').sort_values(by='tx_count', ascending=False).iloc[:6]"
   ]
  },
  {
   "cell_type": "code",
   "execution_count": 152,
   "metadata": {},
   "outputs": [],
   "source": [
    "exchange = pd.merge(exchange, label, how='inner', left_on='to_address', right_on='Address')"
   ]
  },
  {
   "cell_type": "code",
   "execution_count": 153,
   "metadata": {},
   "outputs": [
    {
     "data": {
      "text/html": [
       "<div>\n",
       "<style scoped>\n",
       "    .dataframe tbody tr th:only-of-type {\n",
       "        vertical-align: middle;\n",
       "    }\n",
       "\n",
       "    .dataframe tbody tr th {\n",
       "        vertical-align: top;\n",
       "    }\n",
       "\n",
       "    .dataframe thead th {\n",
       "        text-align: right;\n",
       "    }\n",
       "</style>\n",
       "<table border=\"1\" class=\"dataframe\">\n",
       "  <thead>\n",
       "    <tr style=\"text-align: right;\">\n",
       "      <th></th>\n",
       "      <th>to_address</th>\n",
       "      <th>tx_count</th>\n",
       "      <th>Address</th>\n",
       "      <th>Label</th>\n",
       "      <th>Balance</th>\n",
       "      <th>TxCount</th>\n",
       "    </tr>\n",
       "  </thead>\n",
       "  <tbody>\n",
       "    <tr>\n",
       "      <th>0</th>\n",
       "      <td>0x3f5ce5fbfe3e9af3971dd833d26ba9b5c936f0be</td>\n",
       "      <td>281580</td>\n",
       "      <td>0x3f5ce5fbfe3e9af3971dd833d26ba9b5c936f0be</td>\n",
       "      <td>Binance_1</td>\n",
       "      <td>182,881.99829304 Ether</td>\n",
       "      <td>8130845</td>\n",
       "    </tr>\n",
       "  </tbody>\n",
       "</table>\n",
       "</div>"
      ],
      "text/plain": [
       "                                   to_address  tx_count  \\\n",
       "0  0x3f5ce5fbfe3e9af3971dd833d26ba9b5c936f0be    281580   \n",
       "\n",
       "                                      Address      Label  \\\n",
       "0  0x3f5ce5fbfe3e9af3971dd833d26ba9b5c936f0be  Binance_1   \n",
       "\n",
       "                  Balance  TxCount  \n",
       "0  182,881.99829304 Ether  8130845  "
      ]
     },
     "execution_count": 153,
     "metadata": {},
     "output_type": "execute_result"
    }
   ],
   "source": [
    "exchange"
   ]
  },
  {
   "cell_type": "code",
   "execution_count": 168,
   "metadata": {},
   "outputs": [
    {
     "name": "stdout",
     "output_type": "stream",
     "text": [
      "2018 May 4th, 3.46 % of total tx_count were recorded\n"
     ]
    }
   ],
   "source": [
    "print(\"2018 May 4th,\", \"%.2f\" % (281580 / 8130845 * 100), \"% of total tx_count were recorded\")"
   ]
  },
  {
   "cell_type": "markdown",
   "metadata": {},
   "source": [
    "> 해당 날짜에 차이가 많이 났던 이유는 binance_1 때문, 이 거래소에 전체 transaction count의 3.5% 가량의 transactions이 발생함"
   ]
  },
  {
   "cell_type": "code",
   "execution_count": 180,
   "metadata": {},
   "outputs": [
    {
     "data": {
      "text/html": [
       "<iframe id=\"igraph\" scrolling=\"no\" style=\"border:none;\" seamless=\"seamless\" src=\"https://plot.ly/~Julie_heart/85.embed\" height=\"525px\" width=\"100%\"></iframe>"
      ],
      "text/plain": [
       "<plotly.tools.PlotlyDisplay object>"
      ]
     },
     "execution_count": 180,
     "metadata": {},
     "output_type": "execute_result"
    }
   ],
   "source": [
    "value_Data = date_data[date_data['to_address'] == \"0x3f5ce5fbfe3e9af3971dd833d26ba9b5c936f0be\"]\n",
    "\n",
    "import plotly.plotly as py\n",
    "import plotly.graph_objs as go\n",
    "\n",
    "trace0 = go.Box(\n",
    "    x = value_Data.value,\n",
    "    name = \"All Points\",\n",
    "    jitter = 0.3,\n",
    "    pointpos = -1.8,\n",
    "    boxpoints = 'all',\n",
    "    marker = dict(\n",
    "        color = 'rgb(7,40,89)'),\n",
    "    line = dict(\n",
    "        color = 'rgb(7,40,89)')\n",
    ")\n",
    "\n",
    "trace1 = go.Box(\n",
    "    x = value_Data.value,\n",
    "    name = \"Only Whiskers\",\n",
    "    boxpoints = False,\n",
    "    marker = dict(\n",
    "        color = 'rgb(9,56,125)'),\n",
    "    line = dict(\n",
    "        color = 'rgb(9,56,125)')\n",
    ")\n",
    "\n",
    "trace2 = go.Box(\n",
    "    x = value_Data.value,\n",
    "    name = \"Suspected Outliers\",\n",
    "    boxpoints = 'suspectedoutliers',\n",
    "    marker = dict(\n",
    "        color = 'rgb(8,81,156)',\n",
    "        outliercolor = 'rgba(219, 64, 82, 0.6)',\n",
    "        line = dict(\n",
    "            outliercolor = 'rgba(219, 64, 82, 0.6)',\n",
    "            outlierwidth = 2)),\n",
    "    line = dict(\n",
    "        color = 'rgb(8,81,156)')\n",
    ")\n",
    "\n",
    "trace3 = go.Box(\n",
    "    x = value_Data.value,\n",
    "    name = \"Whiskers and Outliers\",\n",
    "    boxpoints = 'outliers',\n",
    "    marker = dict(\n",
    "        color = 'rgb(107,174,214)'),\n",
    "    line = dict(\n",
    "        color = 'rgb(107,174,214)')\n",
    ")\n",
    "\n",
    "data = [trace0,trace1,trace2,trace3]\n",
    "\n",
    "layout = go.Layout(\n",
    "    title = \"Binance transactions on May 4th\"\n",
    ")\n",
    "\n",
    "fig = go.Figure(data=data,layout=layout)\n",
    "py.iplot(fig, filename = \"Binance transactions on May 4th\")"
   ]
  },
  {
   "cell_type": "code",
   "execution_count": null,
   "metadata": {},
   "outputs": [],
   "source": []
  }
 ],
 "metadata": {
  "kernelspec": {
   "display_name": "Python 3",
   "language": "python",
   "name": "python3"
  },
  "language_info": {
   "codemirror_mode": {
    "name": "ipython",
    "version": 3
   },
   "file_extension": ".py",
   "mimetype": "text/x-python",
   "name": "python",
   "nbconvert_exporter": "python",
   "pygments_lexer": "ipython3",
   "version": "3.7.1"
  }
 },
 "nbformat": 4,
 "nbformat_minor": 2
}
